{
 "cells": [
  {
   "cell_type": "code",
   "execution_count": 6,
   "metadata": {},
   "outputs": [
    {
     "name": "stdout",
     "output_type": "stream",
     "text": [
      "The current directory is: \n",
      "c:\\Users\\springnuance\\Desktop\\Abaqus-Nanoindentation-Project\n"
     ]
    }
   ],
   "source": [
    "import pandas as pd\n",
    "import numpy as np\n",
    "from sklearn.metrics import r2_score\n",
    "import matplotlib.pyplot as plt\n",
    "from matplotlib.pyplot import figure\n",
    "import copy \n",
    "\n",
    "import os\n",
    "from math import * \n",
    "os.getcwd()\n",
    "print(\"The current directory is: \")\n",
    "print(os.getcwd())\n",
    "path_parent = os.path.dirname(os.getcwd())\n",
    "if path_parent.endswith(\"Abaqus-Nanoindentation-Project\"):\n",
    "    os.chdir(path_parent) \n",
    "    print(\"Moving up to the parent directory\")\n",
    "    print(os.getcwd())"
   ]
  },
  {
   "cell_type": "code",
   "execution_count": 3,
   "metadata": {},
   "outputs": [],
   "source": [
    "grains = [\"1441\",\"2744\",\"3198\"]\n",
    "strainRates = [\"0p1\"]\n",
    "CPLaw = \"PH\"\n",
    "material = \"ferrite_n20\"\n",
    "\n",
    "# The project path folder\n",
    "projectPath = os.getcwd()\n",
    "\n",
    "# The logging path\n",
    "logPath = f\"log/{CPLaw}_{material}.txt\"\n",
    "# The paramInfo path\n",
    "paramInfoPath = f\"paramInfo/{CPLaw}_{material}\"\n",
    "# The results path\n",
    "resultPath = f\"results/{CPLaw}_{material}\"\n",
    "# The simulations path\n",
    "simPath = f\"simulations/{CPLaw}_{material}\"\n",
    "# The target path\n",
    "targetPath = f\"targets/{CPLaw}_{material}\"\n",
    "# The templates path\n",
    "templatePath = f\"templates/{CPLaw}_{material}\"\n",
    "\n",
    "objectives = [f\"grain_{grainID}_sr_{strainRate}\" for grainID in grains for strainRate in strainRates]"
   ]
  },
  {
   "cell_type": "code",
   "execution_count": 10,
   "metadata": {},
   "outputs": [],
   "source": [
    "# Scaling unit from nm and microN to m and N\n",
    "\n",
    "for objective in objectives:\n",
    "    FD_Curves_iteration = np.load(f\"{resultPath}/{objective}/iteration/common/FD_Curves.npy\", allow_pickle=True).tolist()\n",
    "    FD_Curves_iteration_copy = copy.deepcopy(FD_Curves_iteration)\n",
    "    for params, dispForce in FD_Curves_iteration.items():\n",
    "        FD_Curves_iteration_copy[params][\"force\"] *= 1e-6\n",
    "        FD_Curves_iteration_copy[params][\"displacement\"] *= 1e-9\n",
    "    \n",
    "    np.save(f\"{resultPath}/{objective}/iteration/common/FD_Curves.npy\", FD_Curves_iteration_copy)"
   ]
  }
 ],
 "metadata": {
  "kernelspec": {
   "display_name": "Python 3",
   "language": "python",
   "name": "python3"
  },
  "language_info": {
   "codemirror_mode": {
    "name": "ipython",
    "version": 3
   },
   "file_extension": ".py",
   "mimetype": "text/x-python",
   "name": "python",
   "nbconvert_exporter": "python",
   "pygments_lexer": "ipython3",
   "version": "3.12.2"
  }
 },
 "nbformat": 4,
 "nbformat_minor": 2
}
