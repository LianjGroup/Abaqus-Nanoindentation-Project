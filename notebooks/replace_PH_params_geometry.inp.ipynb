{
 "cells": [
  {
   "cell_type": "code",
   "execution_count": 1,
   "metadata": {},
   "outputs": [
    {
     "name": "stdout",
     "output_type": "stream",
     "text": [
      "The current directory is: \n",
      "c:\\Users\\springnuance\\Desktop\\Abaqus-Nanoindentation-Project\\notebooks\n",
      "Moving up to the parent directory\n",
      "c:\\Users\\springnuance\\Desktop\\Abaqus-Nanoindentation-Project\n"
     ]
    }
   ],
   "source": [
    "import pandas as pd\n",
    "import numpy as np\n",
    "from sklearn.metrics import r2_score\n",
    "import matplotlib.pyplot as plt\n",
    "from matplotlib.pyplot import figure\n",
    "\n",
    "import os\n",
    "from math import * \n",
    "os.getcwd()\n",
    "print(\"The current directory is: \")\n",
    "print(os.getcwd())\n",
    "path_parent = os.path.dirname(os.getcwd())\n",
    "if path_parent.endswith(\"Abaqus-Nanoindentation-Project\"):\n",
    "    os.chdir(path_parent) \n",
    "    print(\"Moving up to the parent directory\")\n",
    "    print(os.getcwd())"
   ]
  },
  {
   "cell_type": "code",
   "execution_count": 3,
   "metadata": {},
   "outputs": [],
   "source": [
    "\n",
    "\n",
    "def replace_parameters_geometry_inp(filePath, paramsDict, CPLaw):\n",
    "    if CPLaw == 'PH':\n",
    "        with open(filePath, 'r') as geometry_inp:\n",
    "            geometry_inp_content = geometry_inp.readlines()\n",
    "        start_line = None\n",
    "        end_line = None\n",
    "        # Replacing tau0 value\n",
    "        for i, line in enumerate(geometry_inp_content[-500:]):\n",
    "            if line.startswith('*USER MATERIAL,CONSTANTS=23,UNSYMM'):\n",
    "                line_containing_tau0 = geometry_inp_content[-500 + i + 1]\n",
    "                line_containing_tau0_split = line_containing_tau0.split(',')\n",
    "                line_containing_tau0_split[3] = str(paramsDict['tau0'])\n",
    "                line_containing_tau0_new = ','.join(line_containing_tau0_split)\n",
    "                geometry_inp_content[-500 + i + 1] = line_containing_tau0_new\n",
    "                break\n",
    "        \n",
    "        # Replacing a, h0, tausat values\n",
    "        for i, line in enumerate(geometry_inp_content[-500:]):\n",
    "            if line.startswith('** Q , 2 VECTORS, IHARDMODEL,'):\n",
    "                line_containing_others = geometry_inp_content[-500 + i + 1]\n",
    "                line_containing_others_split = line_containing_others.split(',')\n",
    "                line_containing_others_split[2] = str(paramsDict['a'])\n",
    "                line_containing_others_split[3] = str(paramsDict['tausat'])\n",
    "                line_containing_others_split[4] = str(paramsDict['h0'])\n",
    "                line_containing_others_new = ','.join(line_containing_others_split)\n",
    "                geometry_inp_content[-500 + i + 1] = line_containing_others_new\n",
    "                break\n",
    "\n",
    "        with open(filePath, 'w') as file:\n",
    "            file.writelines(geometry_inp_content)\n",
    "    elif CPLaw == 'DB':\n",
    "        pass\n",
    "\n",
    "\n",
    "paramsDict = {\"tau0\": 300, 'a': 1.3, 'h0': 4500, 'tausat': 370}\n",
    "CPLaw = \"PH\"\n",
    "\n",
    "replace_parameters_geometry_inp(\"notebooks/geometry.inp\", paramsDict, CPLaw)"
   ]
  }
 ],
 "metadata": {
  "kernelspec": {
   "display_name": "Python 3",
   "language": "python",
   "name": "python3"
  },
  "language_info": {
   "codemirror_mode": {
    "name": "ipython",
    "version": 3
   },
   "file_extension": ".py",
   "mimetype": "text/x-python",
   "name": "python",
   "nbconvert_exporter": "python",
   "pygments_lexer": "ipython3",
   "version": "3.12.2"
  }
 },
 "nbformat": 4,
 "nbformat_minor": 2
}
